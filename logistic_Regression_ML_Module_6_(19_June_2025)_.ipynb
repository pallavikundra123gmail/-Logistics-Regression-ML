{
  "nbformat": 4,
  "nbformat_minor": 0,
  "metadata": {
    "colab": {
      "provenance": []
    },
    "kernelspec": {
      "name": "python3",
      "display_name": "Python 3"
    },
    "language_info": {
      "name": "python"
    }
  },
  "cells": [
    {
      "cell_type": "markdown",
      "source": [
        "Theory Questions"
      ],
      "metadata": {
        "id": "j2ZHFn7TITKf"
      }
    },
    {
      "cell_type": "code",
      "source": [
        "#1. What is Logistic Regression, and how does it differ from Linear Regression\n",
        "\n",
        "#ans.>> Logistic Regression is a classification algorithm used to predict discrete classes (e.g., yes/no, 0/1).\n",
        "#       Linear Regression is a regression algorithm used to predict continuous outcomes."
      ],
      "metadata": {
        "id": "XAZZRcw9I2AT"
      },
      "execution_count": null,
      "outputs": []
    },
    {
      "cell_type": "code",
      "source": [
        "#2. What is the mathematical equation of Logistic Regression\n",
        "\n",
        "#ans.>>Logistic Regression predicts the probability\n",
        "# P(y=1∣x) = σ(z)= 1/1-(e**-z)"
      ],
      "metadata": {
        "id": "1qb6ju-vI4Np"
      },
      "execution_count": null,
      "outputs": []
    },
    {
      "cell_type": "code",
      "source": [
        "#3. Why do we use the Sigmoid function in Logistic Regression\n",
        "\n",
        "#ans.>>the Sigmoid Function compresses any real-valued number into the range (0, 1), which allows us to interpret the output as a probability"
      ],
      "metadata": {
        "id": "94eYS6_TJ1jN"
      },
      "execution_count": null,
      "outputs": []
    },
    {
      "cell_type": "code",
      "source": [
        "#4. What is the cost function of Logistic Regression\n",
        "\n",
        "#ans.>> We use Log Loss (Cross-Entropy Loss):\n",
        "# J(θ) = -(1/m) * Σ [ y(i) * log(ŷ(i)) + (1 - y(i)) * log(1 - ŷ(i)) ]"
      ],
      "metadata": {
        "id": "6o31ZD_aJgzY"
      },
      "execution_count": null,
      "outputs": []
    },
    {
      "cell_type": "code",
      "source": [
        "#5. What is Regularization in Logistic Regression? Why is it needed\n",
        "\n",
        "#ans.>> Regularization prevents overfitting by penalizing large coefficients in the model.\n",
        "#       Needed when: Too many features or noise causes the model to fit training data too closely.\n",
        "#       Adds a penalty term to the cost function."
      ],
      "metadata": {
        "id": "1szGHn2rJgv2"
      },
      "execution_count": null,
      "outputs": []
    },
    {
      "cell_type": "code",
      "source": [
        "#6. Explain the difference between Lasso, Ridge, and Elastic Net regression\n",
        "\n",
        "#ans.>>Ridge Regression: Ridge Regression adds L2 regularization (penalty on the square of coefficients)\n",
        "#          it shrinks coefficients, but doesn’t make them exactly zero.\n",
        "\n",
        "#      Lasso Regression :Lasso Regression adds L1 regularization (penalty on the absolute value of coefficients)\n",
        "#           it can shrink some coefficients to zero, effectively doing feature selection.\n",
        "\n",
        "#      Elastic Net Regression : Elastic Net Regression combines both L1 and L2 regularization, balancing between Ridge and Lasso,\n",
        "#            useful when there are many correlated features."
      ],
      "metadata": {
        "id": "7e7SOlkvJgsu"
      },
      "execution_count": null,
      "outputs": []
    },
    {
      "cell_type": "code",
      "source": [
        "#7. When should we use Elastic Net instead of Lasso or Ridge\n",
        "\n",
        "#ans.>>Use Elastic Net when:\n",
        "#      You have many features, and some are highly correlated.\n",
        "#      You want both regularization and feature selection."
      ],
      "metadata": {
        "id": "fyOmJkrMJgpi"
      },
      "execution_count": null,
      "outputs": []
    },
    {
      "cell_type": "code",
      "source": [
        "#8. What is the impact of the regularization parameter (λ) in Logistic Regression\n",
        "\n",
        "#ans.>> High λ: More regularization → simpler model → risk of underfitting.\n",
        "#       Low λ: Less regularization → risk of overfitting.\n",
        "#       λ is a hyperparameter and should be tuned using cross-validation."
      ],
      "metadata": {
        "id": "Y_JtVe-NJgTo"
      },
      "execution_count": null,
      "outputs": []
    },
    {
      "cell_type": "code",
      "source": [
        "#9. What are the key assumptions of Logistic Regression\n",
        "\n",
        "#ans.>> these are the key assumptions of logistic regression :-\n",
        "#      1.Linearity between features and log-odds (not output probability).\n",
        "#      2.No multicollinearity among independent variables.\n",
        "#      3.Large sample size.\n",
        "#      4.Independence of observations.\n",
        "#      5.Features should ideally be scaled (especially with regularization)."
      ],
      "metadata": {
        "id": "DAAn-28aJPIo"
      },
      "execution_count": null,
      "outputs": []
    },
    {
      "cell_type": "code",
      "source": [
        "#10. What are some alternatives to Logistic Regression for classification tasks\n",
        "\n",
        "#ans.>> these are some alternatives to Logistic Regression for classification tasks :-\n",
        "#      1.Decision Trees\n",
        "#      2.Random Forest\n",
        "#      3.Support Vector Machines (SVM)\n",
        "#      4.k-Nearest Neighbors (KNN)\n",
        "#      5.Naive Bayes\n",
        "#      6.Gradient Boosting (XGBoost, LightGBM, etc.)\n",
        "#      7.Neural Networks"
      ],
      "metadata": {
        "id": "gP-u2lsdJPFN"
      },
      "execution_count": null,
      "outputs": []
    },
    {
      "cell_type": "code",
      "source": [
        "#11. What are Classification Evaluation Metrics\n",
        "\n",
        "#ans.>>Accuracy, Precision, Recall, F1-score, ROC-AUC, Confusion Matrix, Log Loss"
      ],
      "metadata": {
        "id": "C0BVp5ofJPBP"
      },
      "execution_count": null,
      "outputs": []
    },
    {
      "cell_type": "code",
      "source": [
        "#12. How does class imbalance affect Logistic Regression\n",
        "\n",
        "#ans.>> Model becomes biased toward majority class.\n",
        "#       Accuracy becomes misleading"
      ],
      "metadata": {
        "id": "J45CcJ7zJO-T"
      },
      "execution_count": null,
      "outputs": []
    },
    {
      "cell_type": "code",
      "source": [
        "#13. What is Hyperparameter Tuning in Logistic Regression\n",
        "\n",
        "#ans.>>It’s the process of selecting the best λ (regularization) and solver using:\n",
        "# 1.Grid Search, 2.Random Search, 3.Cross-Validation"
      ],
      "metadata": {
        "id": "aOEs98OaJOcT"
      },
      "execution_count": null,
      "outputs": []
    },
    {
      "cell_type": "code",
      "source": [
        "#14. What are different solvers in Logistic Regression?Which one should be used\n",
        "\n",
        "#ans.>> Common solvers in sklearn:\n",
        "#       1.liblinear: For small datasets, supports L1 & L2\n",
        "#       2.saga: Supports L1, L2, Elastic Net (best for large datasets)\n",
        "#       3.lbfgs: Fast, good for multiclass (default)\n",
        "#       4.newton-cg: Handles multiclass, uses Hessian"
      ],
      "metadata": {
        "id": "N9cNUrZ7JIk6"
      },
      "execution_count": null,
      "outputs": []
    },
    {
      "cell_type": "code",
      "source": [
        "#15. How is Logistic Regression extended for multiclass classification\n",
        "\n",
        "#ans.>> 1.One-vs-Rest (OvR): One binary classifier per class.\n",
        "#       2.Softmax (Multinomial Logistic Regression): Directly models all classes at once using softmax function."
      ],
      "metadata": {
        "id": "9OTP7Q5WJEf2"
      },
      "execution_count": null,
      "outputs": []
    },
    {
      "cell_type": "code",
      "source": [
        "#16. What are the advantages and disadvantages of Logistic Regression\n",
        "\n",
        "#ans.>> Advantages:\n",
        "#          1.Simple, easy to implement.\n",
        "#          2.Outputs probabilities.\n",
        "#          3.Works well with linearly separable data.\n",
        "#      Disadvantages:\n",
        "#         1.Poor performance on non-linear data.\n",
        "#         2.Assumes linearity in log-odds.\n",
        "#         3.Sensitive to outliers."
      ],
      "metadata": {
        "id": "idExVCdIJDfe"
      },
      "execution_count": null,
      "outputs": []
    },
    {
      "cell_type": "code",
      "source": [
        "#17. What are some use cases of Logistic Regression\n",
        "\n",
        "#ans.>> these are some use cases of Logistic Regression :-\n",
        "#         1.mail Spam Detection\n",
        "#         2.Customer Churn Prediction\n",
        "#         3.Credit Scoring\n",
        "#         4.Disease Prediction (e.g., diabetes, cancer)\n",
        "#         5.Marketing Campaign Responses"
      ],
      "metadata": {
        "id": "Wv7VX-cNKGwG"
      },
      "execution_count": null,
      "outputs": []
    },
    {
      "cell_type": "code",
      "source": [
        "#18. What is the difference between Softmax Regression and Logistic Regression\n",
        "\n",
        "#ans.>>Logistic Regression is used for binary classification (only 2 classes) and uses the sigmoid function.\n",
        "#      Softmax Regression is used for multiclass classification (3 or more classes) and uses the softmax function to give probabilities for each class.\n"
      ],
      "metadata": {
        "id": "iSyi4jR3KQlU"
      },
      "execution_count": null,
      "outputs": []
    },
    {
      "cell_type": "code",
      "source": [
        "#19. How do we choose between One-vs-Rest (OvR) and Softmax for multiclass classification\n",
        "\n",
        "#ans.>> OvR: Trains one classifier per class; works well for unbalanced or sparse classes.\n",
        "#       Softmax: Trains one model; best for balanced, well-separated classes."
      ],
      "metadata": {
        "id": "LLmo5AaIKQh6"
      },
      "execution_count": null,
      "outputs": []
    },
    {
      "cell_type": "code",
      "source": [
        "#20. How do we interpret coefficients in Logistic Regression?\n",
        "\n",
        "#ans.>>Each coefficient βⱼ tells us how much the log-odds of the outcome (like success/failure, yes/no, etc.)\n",
        "#       change when xⱼ increases by 1 unit, while keeping other variables the same.\n",
        "#       If βⱼ > 0: Increasing xⱼ makes the probability of class 1 (e.g., success) go up.\n",
        "#      If βⱼ < 0: Increasing xⱼ makes the probability of class 1 go down."
      ],
      "metadata": {
        "id": "o0RFugieKQez"
      },
      "execution_count": null,
      "outputs": []
    },
    {
      "cell_type": "markdown",
      "source": [
        "Practical Questions"
      ],
      "metadata": {
        "id": "O5vrYVglKp2x"
      }
    },
    {
      "cell_type": "code",
      "source": [
        "import numpy as np\n",
        "import pandas as pd\n",
        "import matplotlib.pyplot as plt\n",
        "import seaborn as sns\n",
        "import warnings\n",
        "warnings.filterwarnings(\"ignore\")"
      ],
      "metadata": {
        "id": "6K5HkBmwKQQG"
      },
      "execution_count": 4,
      "outputs": []
    },
    {
      "cell_type": "code",
      "source": [
        "#1. Write a Python program that loads a dataset, splits it into training and testing sets, applies Logistic Regression, and prints the model accuracy\n",
        "from sklearn.datasets import load_iris\n",
        "data = load_iris()\n",
        "df = pd.DataFrame(data.data , columns=data.feature_names)\n",
        "df[\"target\"] = data.target\n",
        "df = df[df[\"target\"] != 2]\n",
        "\n",
        "x = df.iloc[:,:-1]\n",
        "y = df.iloc[:,-1]\n",
        "\n",
        "from sklearn.model_selection import train_test_split\n",
        "x_train , x_test , y_train , y_test = train_test_split(x,y, test_size=0.20 , random_state=1)\n",
        "\n",
        "from sklearn.linear_model import LogisticRegression\n",
        "model = LogisticRegression()\n",
        "model.fit(x_train,y_train)\n",
        "y_pred = model.predict(x_test)\n",
        "\n",
        "from sklearn.metrics import accuracy_score\n",
        "print(\"Model Accuracy :\" , accuracy_score(y_test, y_pred))"
      ],
      "metadata": {
        "colab": {
          "base_uri": "https://localhost:8080/"
        },
        "id": "v_muRR1YKPk7",
        "outputId": "4730232b-f5ca-43ba-b722-9f28ada20c25"
      },
      "execution_count": 5,
      "outputs": [
        {
          "output_type": "stream",
          "name": "stdout",
          "text": [
            "Model Accuracy : 1.0\n"
          ]
        }
      ]
    },
    {
      "cell_type": "code",
      "source": [
        "#2. Write a Python program to apply L1 regularization (Lasso) on a dataset using LogisticRegression(penalty='l1') and print the model accuracy\n",
        "model_l1 = LogisticRegression(penalty=\"l1\" , solver=\"liblinear\" , max_iter=500)\n",
        "model_l1.fit(x_train,y_train)\n",
        "y_pred_l1 = model_l1.predict(x_test)\n",
        "print(\"Model Accuracy : \", accuracy_score(y_test,y_pred_l1))"
      ],
      "metadata": {
        "colab": {
          "base_uri": "https://localhost:8080/"
        },
        "id": "s2W-RNO2NEn-",
        "outputId": "62d4dfc2-304c-42cf-ca7d-de3c64bc0266"
      },
      "execution_count": 6,
      "outputs": [
        {
          "output_type": "stream",
          "name": "stdout",
          "text": [
            "Model Accuracy :  1.0\n"
          ]
        }
      ]
    },
    {
      "cell_type": "code",
      "source": [
        "#3. Write a Python program to train Logistic Regression with L2 regularization (Ridge) using LogisticRegression(penalty='l2'). Print model accuracy and coefficients\n",
        "model_l2= LogisticRegression(penalty=\"l2\" , solver=\"liblinear\" , max_iter=500)\n",
        "model_l2.fit(x_train,y_train)\n",
        "y_pred_l2 = model_l2.predict(x_test)\n",
        "print(\"Model Accuracy : \", accuracy_score(y_test,y_pred_l2))\n",
        "print(\"Coefficient :\", model.coef_)"
      ],
      "metadata": {
        "colab": {
          "base_uri": "https://localhost:8080/"
        },
        "id": "ggZ-u9lKNKCM",
        "outputId": "ce1ca643-0782-40cd-f162-56efc4f0976b"
      },
      "execution_count": 7,
      "outputs": [
        {
          "output_type": "stream",
          "name": "stdout",
          "text": [
            "Model Accuracy :  1.0\n",
            "Coefficient : [[ 0.46100411 -0.78836575  2.18624929  0.92865666]]\n"
          ]
        }
      ]
    },
    {
      "cell_type": "code",
      "source": [
        "#4. Write a Python program to train Logistic Regression with Elastic Net Regularization (penalty='elasticnet')\n",
        "model_en = LogisticRegression(penalty=\"elasticnet\", solver=\"saga\",l1_ratio=0.2 , max_iter=500)\n",
        "model_en.fit(x_train,y_train)\n",
        "y_pred_en = model_en.predict(x_test)\n",
        "print(\"Model Accuracy : \",accuracy_score(y_test,y_pred_en))"
      ],
      "metadata": {
        "colab": {
          "base_uri": "https://localhost:8080/"
        },
        "id": "xzNiXw_fNNtI",
        "outputId": "e4858e25-5400-4355-9e2a-17c6486ac793"
      },
      "execution_count": 8,
      "outputs": [
        {
          "output_type": "stream",
          "name": "stdout",
          "text": [
            "Model Accuracy :  1.0\n"
          ]
        }
      ]
    },
    {
      "cell_type": "code",
      "source": [
        "#5. Write a Python program to train a Logistic Regression model for multiclass classification using multi_class='ovr'\n",
        "model_ovr = LogisticRegression(multi_class=\"ovr\" , max_iter=500)\n",
        "model_ovr.fit(x_train,y_train)\n",
        "y_pred_ovr = model_ovr.predict(x_test)\n",
        "print(\"Model Accuracy :\",accuracy_score(y_test,y_pred_ovr))"
      ],
      "metadata": {
        "colab": {
          "base_uri": "https://localhost:8080/"
        },
        "id": "rZgJPEKWNTHR",
        "outputId": "16d5cc54-88f3-4eda-8e9f-4ac55b8bda7f"
      },
      "execution_count": 9,
      "outputs": [
        {
          "output_type": "stream",
          "name": "stdout",
          "text": [
            "Model Accuracy : 1.0\n"
          ]
        }
      ]
    },
    {
      "cell_type": "code",
      "source": [
        "#6. Write a Python program to apply GridSearchCV to tune the hyperparameters (C and penalty) of Logistic Regression. Print the best parameters and accuracy\n",
        "from sklearn.model_selection import GridSearchCV\n",
        "params = {\"penalty\": (\"l1\", \"l2\", \"elasticnet\"), 'C': [1, 2, 10, 20, 30, 40]}\n",
        "classifier = LogisticRegression()\n",
        "clf = GridSearchCV(classifier , param_grid= params , cv=5 ,verbose=2)\n",
        "clf.fit(x_train,y_train)\n",
        "print(\"Gridsearchcv Best :\" ,clf.best_params_)\n",
        "print(\"Accuracy :\",clf.best_score_)"
      ],
      "metadata": {
        "colab": {
          "base_uri": "https://localhost:8080/"
        },
        "id": "rOPRKOmxNYL-",
        "outputId": "c411bbf9-f4e3-4503-aff0-d12a185359bf"
      },
      "execution_count": 10,
      "outputs": [
        {
          "output_type": "stream",
          "name": "stdout",
          "text": [
            "Fitting 5 folds for each of 18 candidates, totalling 90 fits\n",
            "[CV] END ....................................C=1, penalty=l1; total time=   0.0s\n",
            "[CV] END ....................................C=1, penalty=l1; total time=   0.0s\n",
            "[CV] END ....................................C=1, penalty=l1; total time=   0.0s\n",
            "[CV] END ....................................C=1, penalty=l1; total time=   0.0s\n",
            "[CV] END ....................................C=1, penalty=l1; total time=   0.0s\n",
            "[CV] END ....................................C=1, penalty=l2; total time=   0.0s\n",
            "[CV] END ....................................C=1, penalty=l2; total time=   0.0s\n",
            "[CV] END ....................................C=1, penalty=l2; total time=   0.0s\n",
            "[CV] END ....................................C=1, penalty=l2; total time=   0.0s\n",
            "[CV] END ....................................C=1, penalty=l2; total time=   0.0s\n",
            "[CV] END ............................C=1, penalty=elasticnet; total time=   0.0s\n",
            "[CV] END ............................C=1, penalty=elasticnet; total time=   0.0s\n",
            "[CV] END ............................C=1, penalty=elasticnet; total time=   0.0s\n",
            "[CV] END ............................C=1, penalty=elasticnet; total time=   0.0s\n",
            "[CV] END ............................C=1, penalty=elasticnet; total time=   0.0s\n",
            "[CV] END ....................................C=2, penalty=l1; total time=   0.0s\n",
            "[CV] END ....................................C=2, penalty=l1; total time=   0.0s\n",
            "[CV] END ....................................C=2, penalty=l1; total time=   0.0s\n",
            "[CV] END ....................................C=2, penalty=l1; total time=   0.0s\n",
            "[CV] END ....................................C=2, penalty=l1; total time=   0.0s\n",
            "[CV] END ....................................C=2, penalty=l2; total time=   0.0s\n",
            "[CV] END ....................................C=2, penalty=l2; total time=   0.0s\n",
            "[CV] END ....................................C=2, penalty=l2; total time=   0.0s\n",
            "[CV] END ....................................C=2, penalty=l2; total time=   0.0s\n",
            "[CV] END ....................................C=2, penalty=l2; total time=   0.0s\n",
            "[CV] END ............................C=2, penalty=elasticnet; total time=   0.0s\n",
            "[CV] END ............................C=2, penalty=elasticnet; total time=   0.0s\n",
            "[CV] END ............................C=2, penalty=elasticnet; total time=   0.0s\n",
            "[CV] END ............................C=2, penalty=elasticnet; total time=   0.0s\n",
            "[CV] END ............................C=2, penalty=elasticnet; total time=   0.0s\n",
            "[CV] END ...................................C=10, penalty=l1; total time=   0.0s\n",
            "[CV] END ...................................C=10, penalty=l1; total time=   0.0s\n",
            "[CV] END ...................................C=10, penalty=l1; total time=   0.0s\n",
            "[CV] END ...................................C=10, penalty=l1; total time=   0.0s\n",
            "[CV] END ...................................C=10, penalty=l1; total time=   0.0s\n",
            "[CV] END ...................................C=10, penalty=l2; total time=   0.3s\n",
            "[CV] END ...................................C=10, penalty=l2; total time=   0.0s\n",
            "[CV] END ...................................C=10, penalty=l2; total time=   0.2s\n",
            "[CV] END ...................................C=10, penalty=l2; total time=   0.2s\n",
            "[CV] END ...................................C=10, penalty=l2; total time=   0.0s\n",
            "[CV] END ...........................C=10, penalty=elasticnet; total time=   0.0s\n",
            "[CV] END ...........................C=10, penalty=elasticnet; total time=   0.0s\n",
            "[CV] END ...........................C=10, penalty=elasticnet; total time=   0.0s\n",
            "[CV] END ...........................C=10, penalty=elasticnet; total time=   0.0s\n",
            "[CV] END ...........................C=10, penalty=elasticnet; total time=   0.0s\n",
            "[CV] END ...................................C=20, penalty=l1; total time=   0.0s\n",
            "[CV] END ...................................C=20, penalty=l1; total time=   0.0s\n",
            "[CV] END ...................................C=20, penalty=l1; total time=   0.0s\n",
            "[CV] END ...................................C=20, penalty=l1; total time=   0.0s\n",
            "[CV] END ...................................C=20, penalty=l1; total time=   0.0s\n",
            "[CV] END ...................................C=20, penalty=l2; total time=   0.0s\n",
            "[CV] END ...................................C=20, penalty=l2; total time=   0.0s\n",
            "[CV] END ...................................C=20, penalty=l2; total time=   0.0s\n",
            "[CV] END ...................................C=20, penalty=l2; total time=   0.0s\n",
            "[CV] END ...................................C=20, penalty=l2; total time=   0.0s\n",
            "[CV] END ...........................C=20, penalty=elasticnet; total time=   0.0s\n",
            "[CV] END ...........................C=20, penalty=elasticnet; total time=   0.0s\n",
            "[CV] END ...........................C=20, penalty=elasticnet; total time=   0.0s\n",
            "[CV] END ...........................C=20, penalty=elasticnet; total time=   0.0s\n",
            "[CV] END ...........................C=20, penalty=elasticnet; total time=   0.0s\n",
            "[CV] END ...................................C=30, penalty=l1; total time=   0.0s\n",
            "[CV] END ...................................C=30, penalty=l1; total time=   0.0s\n",
            "[CV] END ...................................C=30, penalty=l1; total time=   0.0s\n",
            "[CV] END ...................................C=30, penalty=l1; total time=   0.0s\n",
            "[CV] END ...................................C=30, penalty=l1; total time=   0.0s\n",
            "[CV] END ...................................C=30, penalty=l2; total time=   0.0s\n",
            "[CV] END ...................................C=30, penalty=l2; total time=   0.0s\n",
            "[CV] END ...................................C=30, penalty=l2; total time=   0.0s\n",
            "[CV] END ...................................C=30, penalty=l2; total time=   0.0s\n",
            "[CV] END ...................................C=30, penalty=l2; total time=   0.0s\n",
            "[CV] END ...........................C=30, penalty=elasticnet; total time=   0.0s\n",
            "[CV] END ...........................C=30, penalty=elasticnet; total time=   0.0s\n",
            "[CV] END ...........................C=30, penalty=elasticnet; total time=   0.0s\n",
            "[CV] END ...........................C=30, penalty=elasticnet; total time=   0.0s\n",
            "[CV] END ...........................C=30, penalty=elasticnet; total time=   0.0s\n",
            "[CV] END ...................................C=40, penalty=l1; total time=   0.0s\n",
            "[CV] END ...................................C=40, penalty=l1; total time=   0.0s\n",
            "[CV] END ...................................C=40, penalty=l1; total time=   0.0s\n",
            "[CV] END ...................................C=40, penalty=l1; total time=   0.0s\n",
            "[CV] END ...................................C=40, penalty=l1; total time=   0.0s\n",
            "[CV] END ...................................C=40, penalty=l2; total time=   0.0s\n",
            "[CV] END ...................................C=40, penalty=l2; total time=   0.0s\n",
            "[CV] END ...................................C=40, penalty=l2; total time=   0.0s\n",
            "[CV] END ...................................C=40, penalty=l2; total time=   0.0s\n",
            "[CV] END ...................................C=40, penalty=l2; total time=   0.0s\n",
            "[CV] END ...........................C=40, penalty=elasticnet; total time=   0.0s\n",
            "[CV] END ...........................C=40, penalty=elasticnet; total time=   0.0s\n",
            "[CV] END ...........................C=40, penalty=elasticnet; total time=   0.0s\n",
            "[CV] END ...........................C=40, penalty=elasticnet; total time=   0.0s\n",
            "[CV] END ...........................C=40, penalty=elasticnet; total time=   0.0s\n",
            "Gridsearchcv Best : {'C': 1, 'penalty': 'l2'}\n",
            "Accuracy : 1.0\n"
          ]
        }
      ]
    },
    {
      "cell_type": "code",
      "source": [
        "#7. Write a Python program to evaluate Logistic Regression using Stratified K-Fold Cross-Validation. Print the average accuracy\n",
        "from sklearn.model_selection import StratifiedKFold\n",
        "from sklearn.model_selection import cross_val_score\n",
        "model_skf = StratifiedKFold(n_splits=5)\n",
        "scores = cross_val_score(LogisticRegression(max_iter=500), x, y, cv=model_skf)\n",
        "print(\"Stratified K-Fold Avg Accuracy:\", scores.mean())"
      ],
      "metadata": {
        "colab": {
          "base_uri": "https://localhost:8080/"
        },
        "id": "4WBj00UzNcLY",
        "outputId": "6a12f8c9-070d-4c7c-ba4b-0b448347ac7c"
      },
      "execution_count": 11,
      "outputs": [
        {
          "output_type": "stream",
          "name": "stdout",
          "text": [
            "Stratified K-Fold Avg Accuracy: 1.0\n"
          ]
        }
      ]
    },
    {
      "cell_type": "code",
      "source": [
        "#8. Write a Python program to load a dataset from a CSV file, apply Logistic Regression, and evaluate its accuracy.\n",
        "df = pd.read_csv(\"Car Sale.csv\")\n",
        "\n",
        "x = df.drop(\"Price ($)\" , axis=1)\n",
        "y = df[\"Price ($)\"]\n",
        "x_train_car , x_test_car , y_train_car , y_test_car = train_test_split(x,y, test_size=0.20,random_state=1)\n",
        "model_car = LogisticRegression(max_iter=500)\n",
        "model_car.fit(x_train_car,y_train_car)\n",
        "y_pred_car = model_car.predict(x_test_car)\n",
        "print(\"Accuracy :\",accuracy_score(y_train_car,y_pred_car))"
      ],
      "metadata": {
        "id": "MqLDbWfANh-a"
      },
      "execution_count": null,
      "outputs": []
    },
    {
      "cell_type": "code",
      "source": [
        "#9. Write a Python program to apply RandomizedSearchCV for tuning hyperparameters (C, penalty, solver) in Logistic Regression. Print the best parameters and accuracy\n",
        "from sklearn.model_selection import RandomizedSearchCV\n",
        "random_clf = RandomizedSearchCV(classifier, param_distributions=params, n_iter=10, cv = 5)\n",
        "random_clf.fit(x_train,y_train)\n",
        "print(\"RandomizedSearchCV best:\", random_clf.best_params_)\n",
        "print(\"Accuracy:\", random_clf.best_score_)"
      ],
      "metadata": {
        "colab": {
          "base_uri": "https://localhost:8080/"
        },
        "id": "84yHbucSNlr8",
        "outputId": "0fcfa6fa-7a26-4c31-bf10-819d38225c86"
      },
      "execution_count": 13,
      "outputs": [
        {
          "output_type": "stream",
          "name": "stdout",
          "text": [
            "RandomizedSearchCV best: {'penalty': 'l2', 'C': 10}\n",
            "Accuracy: 1.0\n"
          ]
        }
      ]
    },
    {
      "cell_type": "code",
      "source": [
        "#10. Write a Python program to implement One-vs-One (OvO) Multiclass Logistic Regression and print accuracy\n",
        "from sklearn.multiclass import OneVsOneClassifier\n",
        "model_ovo = OneVsOneClassifier(LogisticRegression(max_iter=500))\n",
        "model_ovo.fit(x_train, y_train)\n",
        "y_pred_ovo = model_ovo.predict(x_test)\n",
        "print(\"OvO Accuracy:\", accuracy_score(y_test,y_pred_ovo ))"
      ],
      "metadata": {
        "colab": {
          "base_uri": "https://localhost:8080/"
        },
        "id": "fQXg-X0iNxwE",
        "outputId": "503f472c-16ce-45ad-9eb0-3185d9d82a84"
      },
      "execution_count": 14,
      "outputs": [
        {
          "output_type": "stream",
          "name": "stdout",
          "text": [
            "OvO Accuracy: 1.0\n"
          ]
        }
      ]
    },
    {
      "cell_type": "code",
      "source": [
        "#11. Write a Python program to train a Logistic Regression model and visualize the confusion matrix for binary classification\n",
        "from sklearn.metrics import confusion_matrix\n",
        "cm = confusion_matrix(y_test, y_pred)\n",
        "plt.figure(figsize=(4,4))\n",
        "plt.imshow(cm, cmap='Blues')\n",
        "plt.title('Confusion Matrix'); plt.colorbar()\n",
        "plt.xticks([0,1]); plt.yticks([0,1])\n",
        "plt.xlabel('Predicted'); plt.ylabel('Actual')\n",
        "for i in range(2):\n",
        "    for j in range(2):\n",
        "        plt.text(j,i, cm[i,j], ha='center', va='center', color='white')\n",
        "plt.show()"
      ],
      "metadata": {
        "colab": {
          "base_uri": "https://localhost:8080/",
          "height": 363
        },
        "id": "Z-tbBwu-N1W-",
        "outputId": "f34323d4-ebfc-4d4a-ec19-3f4814611570"
      },
      "execution_count": 15,
      "outputs": [
        {
          "output_type": "display_data",
          "data": {
            "text/plain": [
              "<Figure size 400x400 with 2 Axes>"
            ],
            "image/png": "[encoded data removed]"
          },
          "metadata": {}
        }
      ]
    },
    {
      "cell_type": "code",
      "source": [
        "#12. Write a Python program to train a Logistic Regression model and evaluate its performance using Precision, Recall, and F1-Score\n",
        "from sklearn.metrics import precision_recall_fscore_support\n",
        "\n",
        "p, r, f, _ = precision_recall_fscore_support(y_test, y_pred, average='macro')\n",
        "\n",
        "print(\"Precision:\", p)\n",
        "print(\"Recall:\", r)\n",
        "print(\"F1 Score:\", f)\n"
      ],
      "metadata": {
        "colab": {
          "base_uri": "https://localhost:8080/"
        },
        "id": "Avw24K1CN7Xr",
        "outputId": "e807aded-b3f0-4a8c-e7fc-ae3d2529e666"
      },
      "execution_count": 16,
      "outputs": [
        {
          "output_type": "stream",
          "name": "stdout",
          "text": [
            "Precision: 1.0\n",
            "Recall: 1.0\n",
            "F1 Score: 1.0\n"
          ]
        }
      ]
    },
    {
      "cell_type": "code",
      "source": [
        "#13. Write a Python program to train a Logistic Regression model on imbalanced data and apply class weights to improve model performance\n",
        "y_imbal = np.hstack((np.zeros(len(y)-10), np.ones(10)))\n",
        "X_imbal = x[:len(y_imbal)]\n",
        "lr_w = LogisticRegression(class_weight='balanced', max_iter=500).fit(X_imbal, y_imbal)\n",
        "print(\"Imbalanced + class_weight Accuracy:\", accuracy_score(y_imbal, lr_w.predict(X_imbal)))"
      ],
      "metadata": {
        "colab": {
          "base_uri": "https://localhost:8080/"
        },
        "id": "K4rQZYBJN_72",
        "outputId": "9e32a964-92a8-41af-8d1b-0bcc16b609d2"
      },
      "execution_count": 17,
      "outputs": [
        {
          "output_type": "stream",
          "name": "stdout",
          "text": [
            "Imbalanced + class_weight Accuracy: 0.71\n"
          ]
        }
      ]
    },
    {
      "cell_type": "code",
      "source": [
        "#15. Write a Python program to apply feature scaling (Standardization) before training a Logistic Regression model. Evaluate its accuracy and compare results with and without scaling\n",
        "from sklearn.preprocessing import StandardScaler\n",
        "scaler = StandardScaler().fit(x_train)\n",
        "x_train, x_test = scaler.transform(x_train), scaler.transform(x_test)\n",
        "acc_no = accuracy_score(y_test, LogisticRegression(max_iter=500).fit(x_train, y_train).predict(x_test))\n",
        "acc_yes = accuracy_score(y_test, LogisticRegression(max_iter=500).fit(x_train, y_train).predict(x_test))\n",
        "print(\"without scaling:\", acc_no)\n",
        "print(\"With scaling:\", acc_yes)"
      ],
      "metadata": {
        "colab": {
          "base_uri": "https://localhost:8080/"
        },
        "id": "a-svnSfqOMpY",
        "outputId": "420ada5e-47d1-474f-9fbe-6e2e088c4ace"
      },
      "execution_count": 20,
      "outputs": [
        {
          "output_type": "stream",
          "name": "stdout",
          "text": [
            "without scaling: 1.0\n",
            "With scaling: 1.0\n"
          ]
        }
      ]
    },
    {
      "cell_type": "code",
      "source": [
        "#16. Write a Python program to train Logistic Regression and evaluate its performance using ROC-AUC score\n",
        "from sklearn.metrics import roc_curve , auc\n",
        "\n",
        "y_pred_proba = model.predict_proba(x_test)[:,1]\n",
        "fpr, tpr, thresholds = roc_curve(y_test, y_pred_proba)\n",
        "roc_auc = auc(fpr , tpr)\n",
        "roc_auc"
      ],
      "metadata": {
        "colab": {
          "base_uri": "https://localhost:8080/"
        },
        "id": "mSyxzOEfOrdL",
        "outputId": "d9f91873-a9c3-4bf7-f1fc-ecc63787ba24"
      },
      "execution_count": 21,
      "outputs": [
        {
          "output_type": "execute_result",
          "data": {
            "text/plain": [
              "np.float64(1.0)"
            ]
          },
          "metadata": {},
          "execution_count": 21
        }
      ]
    },
    {
      "cell_type": "code",
      "source": [
        "#17. Write a Python program to train Logistic Regression using a custom learning rate (C=0.5) and evaluate accuracy\n",
        "model_custom = LogisticRegression(C=0.5, max_iter=500)\n",
        "model_custom.fit(x_train,y_train)\n",
        "print(\"Accuracy Score :\", accuracy_score(y_test,y_pred))"
      ],
      "metadata": {
        "colab": {
          "base_uri": "https://localhost:8080/"
        },
        "id": "uLLKKtuBOvVI",
        "outputId": "26cffa71-5ed1-464e-bbf6-3f559daed42c"
      },
      "execution_count": 22,
      "outputs": [
        {
          "output_type": "stream",
          "name": "stdout",
          "text": [
            "Accuracy Score : 1.0\n"
          ]
        }
      ]
    },
    {
      "cell_type": "code",
      "source": [
        "#18. Write a Python program to train Logistic Regression and identify important features based on model coefficients\n",
        "coefs = pd.Series(model_l2.coef_[0], index=data.feature_names)\n",
        "print(\"Top features:\\n\",coefs.sort_values(ascending=False).head())\n",
        "Top features:\n",
        " petal length (cm)    2.131055\n",
        "petal width (cm)     0.969290\n",
        "sepal length (cm)   -0.407355\n",
        "sepal width (cm)    -1.379103\n",
        "dtype: float64"
      ],
      "metadata": {
        "id": "bYSaXxOdO4vx"
      },
      "execution_count": null,
      "outputs": []
    },
    {
      "cell_type": "code",
      "source": [
        "#19. Write a Python program to train Logistic Regression and evaluate its performance using Cohen’s Kappa Score\n",
        "from sklearn.metrics import cohen_kappa_score\n",
        "print(\"Cohen Kappa:\", cohen_kappa_score(y_test, y_pred))"
      ],
      "metadata": {
        "colab": {
          "base_uri": "https://localhost:8080/"
        },
        "id": "KAeK4qHQPCio",
        "outputId": "b7fca472-a0fd-492a-c76c-36fc6482455d"
      },
      "execution_count": 24,
      "outputs": [
        {
          "output_type": "stream",
          "name": "stdout",
          "text": [
            "Cohen Kappa: 1.0\n"
          ]
        }
      ]
    },
    {
      "cell_type": "code",
      "source": [
        "#20. Write a Python program to train Logistic Regression and visualize the Precision-Recall Curve for binary classificatio\n",
        "from sklearn.metrics import precision_recall_curve\n",
        "prec, rec, thr = precision_recall_curve(y_test, y_pred_proba)\n",
        "plt.plot(rec, prec)\n",
        "plt.xlabel('Recall')\n",
        "plt.ylabel('Precision')\n",
        "plt.title('Precision-Recall Curve')\n",
        "plt.show()"
      ],
      "metadata": {
        "colab": {
          "base_uri": "https://localhost:8080/",
          "height": 472
        },
        "id": "kywS9PAiPDX3",
        "outputId": "1e0c0368-6b76-4cf4-c090-6570f396fabd"
      },
      "execution_count": 25,
      "outputs": [
        {
          "output_type": "display_data",
          "data": {
            "text/plain": [
              "<Figure size 640x480 with 1 Axes>"
            ],
            "image/png": "[encoded data removed]"
          },
          "metadata": {}
        }
      ]
    },
    {
      "cell_type": "code",
      "source": [
        "#21. Write a Python program to train Logistic Regression with different solvers (liblinear, saga, lbfgs) and compare their accuracy\n",
        "for sol in [\"liblinear\", \"saga\", \"lbfgs\"]:\n",
        "    model_solver = LogisticRegression(solver=sol , max_iter=500)\n",
        "    model_solver.fit(x_train,y_train)\n",
        "    y_pred_sol = model_solver.predict(x_test)\n",
        "    print(f\"solver {sol} acc : \" , accuracy_score(y_test,y_pred_sol))"
      ],
      "metadata": {
        "colab": {
          "base_uri": "https://localhost:8080/"
        },
        "id": "4aca4R6hPGvG",
        "outputId": "00ed740b-2b55-49c8-8dc3-52798349cfa3"
      },
      "execution_count": 26,
      "outputs": [
        {
          "output_type": "stream",
          "name": "stdout",
          "text": [
            "solver liblinear acc :  1.0\n",
            "solver saga acc :  1.0\n",
            "solver lbfgs acc :  1.0\n"
          ]
        }
      ]
    },
    {
      "cell_type": "code",
      "source": [
        "#22. Write a Python program to train Logistic Regression and evaluate its performance using Matthews Correlation Coefficient (MCC)\n",
        "from sklearn.metrics import matthews_corrcoef\n",
        "print(\"MCC:\", matthews_corrcoef(y_test, y_pred))"
      ],
      "metadata": {
        "colab": {
          "base_uri": "https://localhost:8080/"
        },
        "id": "lEqxgFLdPMBM",
        "outputId": "e871af2b-bec3-47e4-f3a1-2902c7a8531e"
      },
      "execution_count": 27,
      "outputs": [
        {
          "output_type": "stream",
          "name": "stdout",
          "text": [
            "MCC: 1.0\n"
          ]
        }
      ]
    },
    {
      "cell_type": "code",
      "source": [
        "#23. Write a Python program to train Logistic Regression on both raw and standardized data. Compare their accuracy to see the impact of feature scaling\n",
        "from sklearn.preprocessing import StandardScaler\n",
        "scaler = StandardScaler().fit(x_train)\n",
        "x_train, x_test = scaler.transform(x_train), scaler.transform(x_test)\n",
        "acc_no = accuracy_score(y_test, LogisticRegression(max_iter=500).fit(x_train, y_train).predict(x_test))\n",
        "acc_yes = accuracy_score(y_test,LogisticRegression(max_iter=500).fit(x_train, y_train).predict(x_test))\n",
        "print(\"without scaling:\", acc_no)\n",
        "print(\"With scaling:\", acc_yes)"
      ],
      "metadata": {
        "colab": {
          "base_uri": "https://localhost:8080/"
        },
        "id": "5wxOiQ0UPQ5q",
        "outputId": "1e637059-fa5f-4ed8-edea-0d72d50efab1"
      },
      "execution_count": 28,
      "outputs": [
        {
          "output_type": "stream",
          "name": "stdout",
          "text": [
            "without scaling: 1.0\n",
            "With scaling: 1.0\n"
          ]
        }
      ]
    },
    {
      "cell_type": "code",
      "source": [
        "#24. Write a Python program to train Logistic Regression and find the optimal C (regularization strength) using cross-validation\n",
        "from sklearn.model_selection import GridSearchCV\n",
        "params = {\"penalty\": (\"l1\", \"l2\", \"elasticnet\"), 'C': [1, 2, 10, 20, 30, 40]}\n",
        "classifier = LogisticRegression()\n",
        "clf = GridSearchCV(classifier , param_grid= params , cv=5 ,verbose=2)\n",
        "clf.fit(x_train,y_train)\n",
        "print(\"Gridsearchcv Best :\" ,clf.best_params_)\n",
        "print(\"Accuracy :\",clf.best_score_)"
      ],
      "metadata": {
        "colab": {
          "base_uri": "https://localhost:8080/"
        },
        "id": "NkvJ6fmrPndZ",
        "outputId": "8df935ef-cacc-4cd8-addf-f919ef70d1a6"
      },
      "execution_count": 29,
      "outputs": [
        {
          "output_type": "stream",
          "name": "stdout",
          "text": [
            "Fitting 5 folds for each of 18 candidates, totalling 90 fits\n",
            "[CV] END ....................................C=1, penalty=l1; total time=   0.0s\n",
            "[CV] END ....................................C=1, penalty=l1; total time=   0.0s\n",
            "[CV] END ....................................C=1, penalty=l1; total time=   0.0s\n",
            "[CV] END ....................................C=1, penalty=l1; total time=   0.0s\n",
            "[CV] END ....................................C=1, penalty=l1; total time=   0.0s\n",
            "[CV] END ....................................C=1, penalty=l2; total time=   0.0s\n",
            "[CV] END ....................................C=1, penalty=l2; total time=   0.0s\n",
            "[CV] END ....................................C=1, penalty=l2; total time=   0.0s\n",
            "[CV] END ....................................C=1, penalty=l2; total time=   0.0s\n",
            "[CV] END ....................................C=1, penalty=l2; total time=   0.0s\n",
            "[CV] END ............................C=1, penalty=elasticnet; total time=   0.0s\n",
            "[CV] END ............................C=1, penalty=elasticnet; total time=   0.0s\n",
            "[CV] END ............................C=1, penalty=elasticnet; total time=   0.0s\n",
            "[CV] END ............................C=1, penalty=elasticnet; total time=   0.0s\n",
            "[CV] END ............................C=1, penalty=elasticnet; total time=   0.0s\n",
            "[CV] END ....................................C=2, penalty=l1; total time=   0.0s\n",
            "[CV] END ....................................C=2, penalty=l1; total time=   0.0s\n",
            "[CV] END ....................................C=2, penalty=l1; total time=   0.0s\n",
            "[CV] END ....................................C=2, penalty=l1; total time=   0.0s\n",
            "[CV] END ....................................C=2, penalty=l1; total time=   0.0s\n",
            "[CV] END ....................................C=2, penalty=l2; total time=   0.0s\n",
            "[CV] END ....................................C=2, penalty=l2; total time=   0.0s\n",
            "[CV] END ....................................C=2, penalty=l2; total time=   0.0s\n",
            "[CV] END ....................................C=2, penalty=l2; total time=   0.0s\n",
            "[CV] END ....................................C=2, penalty=l2; total time=   0.0s\n",
            "[CV] END ............................C=2, penalty=elasticnet; total time=   0.0s\n",
            "[CV] END ............................C=2, penalty=elasticnet; total time=   0.0s\n",
            "[CV] END ............................C=2, penalty=elasticnet; total time=   0.0s\n",
            "[CV] END ............................C=2, penalty=elasticnet; total time=   0.0s\n",
            "[CV] END ............................C=2, penalty=elasticnet; total time=   0.0s\n",
            "[CV] END ...................................C=10, penalty=l1; total time=   0.0s\n",
            "[CV] END ...................................C=10, penalty=l1; total time=   0.0s\n",
            "[CV] END ...................................C=10, penalty=l1; total time=   0.0s\n",
            "[CV] END ...................................C=10, penalty=l1; total time=   0.0s\n",
            "[CV] END ...................................C=10, penalty=l1; total time=   0.0s\n",
            "[CV] END ...................................C=10, penalty=l2; total time=   0.0s\n",
            "[CV] END ...................................C=10, penalty=l2; total time=   0.0s\n",
            "[CV] END ...................................C=10, penalty=l2; total time=   0.0s\n",
            "[CV] END ...................................C=10, penalty=l2; total time=   0.1s\n",
            "[CV] END ...................................C=10, penalty=l2; total time=   0.0s\n",
            "[CV] END ...........................C=10, penalty=elasticnet; total time=   0.0s\n",
            "[CV] END ...........................C=10, penalty=elasticnet; total time=   0.0s\n",
            "[CV] END ...........................C=10, penalty=elasticnet; total time=   0.0s\n",
            "[CV] END ...........................C=10, penalty=elasticnet; total time=   0.0s\n",
            "[CV] END ...........................C=10, penalty=elasticnet; total time=   0.0s\n",
            "[CV] END ...................................C=20, penalty=l1; total time=   0.0s\n",
            "[CV] END ...................................C=20, penalty=l1; total time=   0.0s\n",
            "[CV] END ...................................C=20, penalty=l1; total time=   0.0s\n",
            "[CV] END ...................................C=20, penalty=l1; total time=   0.0s\n",
            "[CV] END ...................................C=20, penalty=l1; total time=   0.0s\n",
            "[CV] END ...................................C=20, penalty=l2; total time=   0.1s\n",
            "[CV] END ...................................C=20, penalty=l2; total time=   0.0s\n",
            "[CV] END ...................................C=20, penalty=l2; total time=   0.0s\n",
            "[CV] END ...................................C=20, penalty=l2; total time=   0.0s\n",
            "[CV] END ...................................C=20, penalty=l2; total time=   0.0s\n",
            "[CV] END ...........................C=20, penalty=elasticnet; total time=   0.0s\n",
            "[CV] END ...........................C=20, penalty=elasticnet; total time=   0.0s\n",
            "[CV] END ...........................C=20, penalty=elasticnet; total time=   0.0s\n",
            "[CV] END ...........................C=20, penalty=elasticnet; total time=   0.0s\n",
            "[CV] END ...........................C=20, penalty=elasticnet; total time=   0.0s\n",
            "[CV] END ...................................C=30, penalty=l1; total time=   0.0s\n",
            "[CV] END ...................................C=30, penalty=l1; total time=   0.0s\n",
            "[CV] END ...................................C=30, penalty=l1; total time=   0.0s\n",
            "[CV] END ...................................C=30, penalty=l1; total time=   0.0s\n",
            "[CV] END ...................................C=30, penalty=l1; total time=   0.0s\n",
            "[CV] END ...................................C=30, penalty=l2; total time=   0.0s\n",
            "[CV] END ...................................C=30, penalty=l2; total time=   0.0s\n",
            "[CV] END ...................................C=30, penalty=l2; total time=   0.0s\n",
            "[CV] END ...................................C=30, penalty=l2; total time=   0.0s\n",
            "[CV] END ...................................C=30, penalty=l2; total time=   0.0s\n",
            "[CV] END ...........................C=30, penalty=elasticnet; total time=   0.0s\n",
            "[CV] END ...........................C=30, penalty=elasticnet; total time=   0.0s\n",
            "[CV] END ...........................C=30, penalty=elasticnet; total time=   0.0s\n",
            "[CV] END ...........................C=30, penalty=elasticnet; total time=   0.0s\n",
            "[CV] END ...........................C=30, penalty=elasticnet; total time=   0.0s\n",
            "[CV] END ...................................C=40, penalty=l1; total time=   0.0s\n",
            "[CV] END ...................................C=40, penalty=l1; total time=   0.0s\n",
            "[CV] END ...................................C=40, penalty=l1; total time=   0.0s\n",
            "[CV] END ...................................C=40, penalty=l1; total time=   0.0s\n",
            "[CV] END ...................................C=40, penalty=l1; total time=   0.0s\n",
            "[CV] END ...................................C=40, penalty=l2; total time=   0.0s\n",
            "[CV] END ...................................C=40, penalty=l2; total time=   0.0s\n",
            "[CV] END ...................................C=40, penalty=l2; total time=   0.0s\n",
            "[CV] END ...................................C=40, penalty=l2; total time=   0.0s\n",
            "[CV] END ...................................C=40, penalty=l2; total time=   0.0s\n",
            "[CV] END ...........................C=40, penalty=elasticnet; total time=   0.0s\n",
            "[CV] END ...........................C=40, penalty=elasticnet; total time=   0.0s\n",
            "[CV] END ...........................C=40, penalty=elasticnet; total time=   0.0s\n",
            "[CV] END ...........................C=40, penalty=elasticnet; total time=   0.0s\n",
            "[CV] END ...........................C=40, penalty=elasticnet; total time=   0.0s\n",
            "Gridsearchcv Best : {'C': 1, 'penalty': 'l2'}\n",
            "Accuracy : 1.0\n"
          ]
        }
      ]
    },
    {
      "cell_type": "code",
      "source": [
        "#25. Write a Python program to train Logistic Regression, save the trained model using joblib, and load it again to make predictions.\n",
        "import joblib\n",
        "joblib.dump(model_l2, 'lr_model.pkl')\n",
        "lr_loaded = joblib.load('lr_model.pkl')\n",
        "print(\"Loaded model accuracy:\", accuracy_score(y_test, lr_loaded.predict(x_test)))"
      ],
      "metadata": {
        "colab": {
          "base_uri": "https://localhost:8080/"
        },
        "id": "00R0y6hXPiUA",
        "outputId": "6e55b5c1-d1f4-4cad-b764-992c6bee437f"
      },
      "execution_count": 30,
      "outputs": [
        {
          "output_type": "stream",
          "name": "stdout",
          "text": [
            "Loaded model accuracy: 1.0\n"
          ]
        }
      ]
    },
    {
      "cell_type": "code",
      "source": [],
      "metadata": {
        "id": "CfIV7U0hP2bu"
      },
      "execution_count": null,
      "outputs": []
    }
  ]
}